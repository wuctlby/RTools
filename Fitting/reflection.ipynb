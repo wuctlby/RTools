{
 "cells": [
  {
   "cell_type": "code",
   "execution_count": 14,
   "id": "44f48965",
   "metadata": {},
   "outputs": [],
   "source": [
    "from PIL import Image\n",
    "\n",
    "def combine_pngs(png_paths, output_path, direction='vertical'):\n",
    "    \"\"\"\n",
    "    Combine multiple PNG images into one PNG image.\n",
    "\n",
    "    Args:\n",
    "        png_paths (list): List of file paths to PNG images.\n",
    "        output_path (str): Path to save the combined PNG image.\n",
    "        direction (str): Direction to combine images ('vertical' or 'horizontal').\n",
    "    \"\"\"\n",
    "    images = [Image.open(png) for png in png_paths]\n",
    "    \n",
    "    # Combine into a grid (4 rows, 3 columns)\n",
    "    rows, cols = 3, 4\n",
    "    if len(images) != rows * cols:\n",
    "        raise ValueError(f\"Expected {rows * cols} images for a {rows}x{cols} grid, but got {len(images)}\")\n",
    "    \n",
    "    # Calculate dimensions for the grid\n",
    "    max_width = max(img.width for img in images)\n",
    "    max_height = max(img.height for img in images)\n",
    "    total_width = cols * max_width\n",
    "    total_height = rows * max_height\n",
    "    combined_image = Image.new('RGBA', (total_width, total_height))\n",
    "    \n",
    "    # Place images in the grid\n",
    "    for i, img in enumerate(images):\n",
    "        row = i // cols\n",
    "        col = i % cols\n",
    "        x_offset = col * max_width\n",
    "        y_offset = row * max_height\n",
    "        combined_image.paste(img, (x_offset, y_offset))\n",
    "    \n",
    "    combined_image.save(output_path)\n",
    "# Example usage:\n",
    "png='/tmp/MicrosoftEdgeDownloads/781a4686-40ed-429d-acbc-e8d8841bb240/fitSpectrum_D0_PbPb_bkg_ref.pdf/fitSpectrum_D0_PbPb_bkg_ref-01.png /tmp/MicrosoftEdgeDownloads/781a4686-40ed-429d-acbc-e8d8841bb240/fitSpectrum_D0_PbPb_bkg_ref.pdf/fitSpectrum_D0_PbPb_bkg_ref-02.png /tmp/MicrosoftEdgeDownloads/781a4686-40ed-429d-acbc-e8d8841bb240/fitSpectrum_D0_PbPb_bkg_ref.pdf/fitSpectrum_D0_PbPb_bkg_ref-03.png /tmp/MicrosoftEdgeDownloads/781a4686-40ed-429d-acbc-e8d8841bb240/fitSpectrum_D0_PbPb_bkg_ref.pdf/fitSpectrum_D0_PbPb_bkg_ref-04.png /tmp/MicrosoftEdgeDownloads/781a4686-40ed-429d-acbc-e8d8841bb240/fitSpectrum_D0_PbPb_bkg_ref.pdf/fitSpectrum_D0_PbPb_bkg_ref-05.png /tmp/MicrosoftEdgeDownloads/781a4686-40ed-429d-acbc-e8d8841bb240/fitSpectrum_D0_PbPb_bkg_ref.pdf/fitSpectrum_D0_PbPb_bkg_ref-06.png /tmp/MicrosoftEdgeDownloads/781a4686-40ed-429d-acbc-e8d8841bb240/fitSpectrum_D0_PbPb_bkg_ref.pdf/fitSpectrum_D0_PbPb_bkg_ref-07.png /tmp/MicrosoftEdgeDownloads/781a4686-40ed-429d-acbc-e8d8841bb240/fitSpectrum_D0_PbPb_bkg_ref.pdf/fitSpectrum_D0_PbPb_bkg_ref-08.png /tmp/MicrosoftEdgeDownloads/781a4686-40ed-429d-acbc-e8d8841bb240/fitSpectrum_D0_PbPb_bkg_ref.pdf/fitSpectrum_D0_PbPb_bkg_ref-09.png /tmp/MicrosoftEdgeDownloads/781a4686-40ed-429d-acbc-e8d8841bb240/fitSpectrum_D0_PbPb_bkg_ref.pdf/fitSpectrum_D0_PbPb_bkg_ref-10.png /tmp/MicrosoftEdgeDownloads/781a4686-40ed-429d-acbc-e8d8841bb240/fitSpectrum_D0_PbPb_bkg_ref.pdf/fitSpectrum_D0_PbPb_bkg_ref-11.png /tmp/MicrosoftEdgeDownloads/781a4686-40ed-429d-acbc-e8d8841bb240/fitSpectrum_D0_PbPb_bkg_ref.pdf/fitSpectrum_D0_PbPb_bkg_ref-12.png'\n",
    "png_paths = png.split(' ')\n",
    "output_path = '/home/wuct/下载/pdfkit/RawYields_D0_PbPb_nobkg_noref/combined_image1.png'\n",
    "combine_pngs(png_paths, output_path, direction='vertical')"
   ]
  }
 ],
 "metadata": {
  "kernelspec": {
   "display_name": "base",
   "language": "python",
   "name": "python3"
  },
  "language_info": {
   "codemirror_mode": {
    "name": "ipython",
    "version": 3
   },
   "file_extension": ".py",
   "mimetype": "text/x-python",
   "name": "python",
   "nbconvert_exporter": "python",
   "pygments_lexer": "ipython3",
   "version": "3.12.7"
  }
 },
 "nbformat": 4,
 "nbformat_minor": 5
}
